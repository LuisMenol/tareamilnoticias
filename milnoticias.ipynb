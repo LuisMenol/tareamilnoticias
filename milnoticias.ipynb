{
  "cells": [
    {
      "cell_type": "code",
      "execution_count": 29,
      "metadata": {
        "id": "ohyiqLNQph_G"
      },
      "outputs": [],
      "source": [
        "import pandas as pd\n",
        "import re\n",
        "from nltk.corpus import stopwords\n",
        "from nltk.tokenize import word_tokenize\n",
        "from sklearn.feature_extraction.text import TfidfVectorizer\n",
        "from sklearn.decomposition import NMF, LatentDirichletAllocation\n",
        "from sklearn.metrics.pairwise import pairwise_distances\n",
        "import matplotlib.pyplot as plt\n"
      ]
    },
    {
      "cell_type": "code",
      "execution_count": 2,
      "metadata": {
        "id": "uXn-_IRfpssP",
        "colab": {
          "base_uri": "https://localhost:8080/",
          "height": 0
        },
        "outputId": "cfa5b6b9-4fc9-44cb-b7a8-456c3bd9b33d"
      },
      "outputs": [
        {
          "output_type": "stream",
          "name": "stdout",
          "text": [
            "Mounted at /content/drive\n"
          ]
        }
      ],
      "source": [
        "from google.colab import drive\n",
        "drive.mount('/content/drive')"
      ]
    },
    {
      "cell_type": "code",
      "source": [
        "# cargar los datos\n",
        "df = pd.read_json('/content/drive/MyDrive/datassets/finanzas/milnoticias/News_Category_Dataset_v2.json', lines=True)\n",
        "\n",
        "# cargar las palabras vacías\n",
        "palabras_vacias = [linea.rstrip('\\n') for linea in open('/content/drive/MyDrive/datassets/finanzas/milnoticias/palabras_vacias.txt')]\n"
      ],
      "metadata": {
        "id": "_sn7avQ-Rdwv"
      },
      "execution_count": 4,
      "outputs": []
    },
    {
      "cell_type": "code",
      "source": [
        "# limpiar el corpus\n",
        "def remove_sw(t):\n",
        "  tokens = t.strip().split(' ')\n",
        "  tokens = [token for token in tokens if token not in palabras_vacias]\n",
        "  tout = ' '.join(tokens).strip()\n",
        "  return tout\n",
        "\n",
        "def clean_text(t):\n",
        "  t = str(t)\n",
        "  t = re.sub(r'\\d+',' ',t)\n",
        "  t = re.sub(r'[^\\w\\n]',' ',t)\n",
        "  t = re.sub(r'\\s\\s+',' ',t)\n",
        "  t = t.lower()\n",
        "  t = t.strip()\n",
        "  return t"
      ],
      "metadata": {
        "id": "5AsmYy6pWnkP"
      },
      "execution_count": 5,
      "outputs": []
    },
    {
      "cell_type": "code",
      "source": [
        "# inicializar los modelos\n",
        "nmf = NMF(n_components=10)\n",
        "lda = LatentDirichletAllocation(n_components=10)"
      ],
      "metadata": {
        "id": "iZXwK1TTW8b6"
      },
      "execution_count": 6,
      "outputs": []
    },
    {
      "cell_type": "code",
      "source": [
        "# inicializar las listas para guardar los scores de Jaccard\n",
        "scores_lda = []\n",
        "scores_nmf = []"
      ],
      "metadata": {
        "id": "HxjikFuLXA0j"
      },
      "execution_count": 7,
      "outputs": []
    },
    {
      "cell_type": "code",
      "source": [
        "# calcular los scores de Jaccard para cada review\n",
        "for i in range(len(df)):\n",
        "    # extraer la review original\n",
        "    review = df.loc[i, 'short_description']\n",
        "    \n",
        "    # limpiar la review y extraer los stopwords\n",
        "    review_clean = remove_sw(clean_text(review))\n",
        "     \n",
        "    #agreagar valor por default si la limpieza no devuelve vocabulario\n",
        "    if not review_clean:\n",
        "      continue\n",
        "\n",
        "    # transformar la review limpia en una matriz TF-IDF\n",
        "    try:\n",
        "       tfidf = TfidfVectorizer().fit_transform([review_clean])\n",
        "    except ValueError:\n",
        "       continue\n",
        "    \n",
        "    # obtener las distribuciones de tópicos para cada modelo\n",
        "    lda_distribution = lda.fit_transform(tfidf)\n",
        "    nmf_distribution = nmf.fit_transform(tfidf)\n",
        "    \n",
        "    # obtener el tópico principal para cada modelo\n",
        "    lda_topic = lda_distribution.argmax(axis=1)\n",
        "    nmf_topic = nmf_distribution.argmax(axis=1)\n",
        "    \n",
        "    # calcular el score de Jaccard para cada modelo\n",
        "    lda_score = 1 - pairwise_distances(lda.components_[lda_topic], tfidf.toarray(), metric='jaccard')\n",
        "    nmf_score = 1 - pairwise_distances(nmf.components_[nmf_topic], tfidf.toarray(), metric='jaccard')\n",
        "    \n",
        "    # agregar los scores a las listas\n",
        "    scores_lda.append(lda_score[0][0])\n",
        "    scores_nmf.append(nmf_score[0][0])\n",
        "\n",
        "    "
      ],
      "metadata": {
        "id": "vWXdrGoOYTHM"
      },
      "execution_count": null,
      "outputs": []
    },
    {
      "cell_type": "code",
      "source": [
        "#truncamos las listas para que coincidan con el DF\n",
        "scores_lda_trunc = scores_lda[:len(df)]\n",
        "scores_nmf_trunc = scores_nmf[:len(df)]"
      ],
      "metadata": {
        "id": "tLLLzPlFuErK"
      },
      "execution_count": 25,
      "outputs": []
    },
    {
      "cell_type": "code",
      "source": [
        "# asignar los scores a nuevas columnas en el DataFrame\n",
        "df['LDAScore'] = scores_lda_trunc\n",
        "df['NMFScore'] = scores_nmf_trunc"
      ],
      "metadata": {
        "id": "AGfuuPV9spqq"
      },
      "execution_count": 27,
      "outputs": []
    },
    {
      "cell_type": "code",
      "source": [
        "# graficar la distribución de los scores de LDA y NMF\n",
        "plt.hist(df['LDAScore'], bins=20, alpha=0.5, label='LDA')\n",
        "plt.hist(df['NMFScore'], bins=20, alpha=0.5, label='NMF')\n",
        "plt.legend(loc='upper left')\n",
        "plt.title('Distribución de los scores')\n",
        "plt.xlabel('Score')\n",
        "plt.ylabel('Frecuencia')\n",
        "plt.show()"
      ],
      "metadata": {
        "colab": {
          "base_uri": "https://localhost:8080/",
          "height": 295
        },
        "id": "OMFSYsn9iN0E",
        "outputId": "27e3bb4a-0a6c-48db-80e0-45cceabf6bf0"
      },
      "execution_count": 30,
      "outputs": [
        {
          "output_type": "display_data",
          "data": {
            "text/plain": [
              "<Figure size 432x288 with 1 Axes>"
            ],
            "image/png": "[encoded data removed]"
          },
          "metadata": {
            "needs_background": "light"
          }
        }
      ]
    },
    {
      "cell_type": "code",
      "source": [
        "# calcular los promedios de los scores por modelo\n",
        "lda_mean = df['LDAScore'].mean()\n",
        "nmf_mean = df['NMFScore'].mean()"
      ],
      "metadata": {
        "id": "QU-PSpYduhor"
      },
      "execution_count": 31,
      "outputs": []
    },
    {
      "cell_type": "code",
      "source": [
        "# graficar los promedios de los scores por modelo\n",
        "plt.bar(['LDA', 'NMF'], [lda_mean, nmf_mean])\n",
        "plt.title('Promedio de los scores por modelo')\n",
        "plt.xlabel('Modelo')\n",
        "plt.ylabel('Score promedio')\n",
        "plt.show()"
      ],
      "metadata": {
        "colab": {
          "base_uri": "https://localhost:8080/",
          "height": 295
        },
        "id": "0aLyLbAuuof1",
        "outputId": "99a0a996-9c0d-4080-f6d4-3db0b4c1a59c"
      },
      "execution_count": 32,
      "outputs": [
        {
          "output_type": "display_data",
          "data": {
            "text/plain": [
              "<Figure size 432x288 with 1 Axes>"
            ],
            "image/png": "[encoded data removed]"
          },
          "metadata": {
            "needs_background": "light"
          }
        }
      ]
    },
    {
      "cell_type": "code",
      "source": [
        "count_lda = 0\n",
        "count_nmf = 0\n",
        "for i in range(len(df)):\n",
        "    if df.loc[i, 'LDAScore'] > df.loc[i, 'NMFScore']:\n",
        "        count_lda += 1\n",
        "    elif df.loc[i, 'LDAScore'] < df.loc[i, 'NMFScore']:\n",
        "        count_nmf += 1\n",
        "\n",
        "# imprimir cuál método es mejor\n",
        "if count_lda > count_nmf:\n",
        "    print(\"LDA es mejor\")\n",
        "elif count_lda < count_nmf:\n",
        "    print(\"NMF es mejor\")\n",
        "else:\n",
        "    print(\"Ambos métodos tienen el mismo rendimiento\")"
      ],
      "metadata": {
        "colab": {
          "base_uri": "https://localhost:8080/",
          "height": 0
        },
        "id": "XwZYQlYTuskC",
        "outputId": "adb35ca4-3d99-4b65-d4f5-50b6237f01a2"
      },
      "execution_count": 33,
      "outputs": [
        {
          "output_type": "stream",
          "name": "stdout",
          "text": [
            "LDA es mejor\n"
          ]
        }
      ]
    }
  ],
  "metadata": {
    "colab": {
      "provenance": []
    },
    "kernelspec": {
      "display_name": "Python 3",
      "name": "python3"
    },
    "language_info": {
      "name": "python"
    }
  },
  "nbformat": 4,
  "nbformat_minor": 0
}